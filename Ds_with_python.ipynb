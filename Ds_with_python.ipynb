{
 "cells": [
  {
   "cell_type": "code",
   "execution_count": 17,
   "metadata": {},
   "outputs": [
    {
     "name": "stdout",
     "output_type": "stream",
     "text": [
      "592\n"
     ]
    }
   ],
   "source": [
    "#sum of numbers\n",
    "l = [21,45,26,78,98,24,56,23,17,67,27,21,89]\n",
    "\n",
    "\n",
    "total = 0\n",
    "\n",
    "for i in l:\n",
    "    \n",
    "    total = (total + i)\n",
    "print(total) \n",
    " \n",
    "    \n"
   ]
  },
  {
   "cell_type": "code",
   "execution_count": 18,
   "metadata": {},
   "outputs": [
    {
     "data": {
      "text/plain": [
       "[21, 45, 26, 78, 98, 24, 56, 23, 17, 67, 27, 21, 89]"
      ]
     },
     "execution_count": 18,
     "metadata": {},
     "output_type": "execute_result"
    }
   ],
   "source": [
    "l"
   ]
  },
  {
   "cell_type": "code",
   "execution_count": 27,
   "metadata": {},
   "outputs": [
    {
     "data": {
      "text/plain": [
       "[9261,\n",
       " 91125,\n",
       " 17576,\n",
       " 474552,\n",
       " 941192,\n",
       " 13824,\n",
       " 175616,\n",
       " 12167,\n",
       " 4913,\n",
       " 300763,\n",
       " 19683,\n",
       " 9261,\n",
       " 704969]"
      ]
     },
     "execution_count": 27,
     "metadata": {},
     "output_type": "execute_result"
    }
   ],
   "source": [
    "l1 = [i**3 for i in l]\n",
    "l1"
   ]
  },
  {
   "cell_type": "code",
   "execution_count": 28,
   "metadata": {},
   "outputs": [
    {
     "data": {
      "text/plain": [
       "[23, 56, 21, 67, 12, 45, 56, 67, 29, [12, 45, 33]]"
      ]
     },
     "execution_count": 28,
     "metadata": {},
     "output_type": "execute_result"
    }
   ],
   "source": [
    "l2 = [23,56,21,67,12,45,56,67,29]\n",
    "l2.append([12,45,33])\n",
    "l2\n"
   ]
  },
  {
   "cell_type": "code",
   "execution_count": 29,
   "metadata": {},
   "outputs": [
    {
     "data": {
      "text/plain": [
       "[23, 56, 21, 67, 12, 45, 56, 67, 29, [12, 45, 33]]"
      ]
     },
     "execution_count": 29,
     "metadata": {},
     "output_type": "execute_result"
    }
   ],
   "source": [
    "#searching\n",
    "l2"
   ]
  },
  {
   "cell_type": "code",
   "execution_count": 33,
   "metadata": {},
   "outputs": [
    {
     "name": "stdout",
     "output_type": "stream",
     "text": [
      "23\n",
      "1\n",
      "56\n",
      "2\n",
      "56\n",
      "3\n",
      "21\n",
      "4\n",
      "67\n",
      "5\n",
      "67\n",
      "6\n",
      "12\n",
      "7\n",
      "45\n",
      "8\n",
      "56\n",
      "9\n",
      "56\n",
      "10\n",
      "67\n",
      "11\n",
      "67\n",
      "12\n",
      "29\n",
      "13\n",
      "[12, 45, 33]\n",
      "14\n"
     ]
    }
   ],
   "source": [
    "number = 67\n",
    "count = 0\n",
    "for number in l2:\n",
    "    for i in l2:\n",
    "        if i == number:\n",
    "            count += 1\n",
    "            print(i)\n",
    "            print(count)"
   ]
  },
  {
   "cell_type": "code",
   "execution_count": 37,
   "metadata": {},
   "outputs": [
    {
     "data": {
      "text/plain": [
       "10"
      ]
     },
     "execution_count": 37,
     "metadata": {},
     "output_type": "execute_result"
    }
   ],
   "source": [
    "def h(x):\n",
    "    (d,n) = (1,0)\n",
    "    while d <= x:\n",
    "        (d,n) = (d*3,n+1)\n",
    "    return(n)\n",
    "h(27993)"
   ]
  },
  {
   "cell_type": "code",
   "execution_count": 41,
   "metadata": {},
   "outputs": [
    {
     "name": "stdout",
     "output_type": "stream",
     "text": [
      "{23: 2, 45: 2, 3: 2, 4: 1, 56: 2, 7: 1, 34: 1, 98: 1}\n"
     ]
    }
   ],
   "source": [
    "l3 = [23,45,3,4,56,7,23,34,98,3,45,56]\n",
    "d = {}\n",
    "for number in l3:\n",
    "    count = 0\n",
    "\n",
    "\n",
    "    for i in l3:\n",
    "        if number == i:\n",
    "            count += 1\n",
    "            \n",
    "    d[number] = count\n",
    "print(d)\n"
   ]
  },
  {
   "cell_type": "code",
   "execution_count": 46,
   "metadata": {},
   "outputs": [
    {
     "data": {
      "text/plain": [
       "False"
      ]
     },
     "execution_count": 46,
     "metadata": {},
     "output_type": "execute_result"
    }
   ],
   "source": [
    "def g(n):\n",
    "    s = False\n",
    "    for i in range(1,n+1):\n",
    "        if i*i == n:\n",
    "            s = True\n",
    "    return(s)\n",
    "g(17)\n",
    "    "
   ]
  },
  {
   "cell_type": "code",
   "execution_count": 47,
   "metadata": {},
   "outputs": [
    {
     "data": {
      "text/plain": [
       "[0, 1, 2, 3, 4]"
      ]
     },
     "execution_count": 47,
     "metadata": {},
     "output_type": "execute_result"
    }
   ],
   "source": [
    "list(range(0,5))"
   ]
  },
  {
   "cell_type": "code",
   "execution_count": 48,
   "metadata": {},
   "outputs": [],
   "source": [
    "l = [1,3,5,6,7]\n",
    "l2 = l \n",
    "l[2] = 11 "
   ]
  },
  {
   "cell_type": "code",
   "execution_count": 50,
   "metadata": {},
   "outputs": [
    {
     "data": {
      "text/plain": [
       "[1, 3, 11, 6, 7]"
      ]
     },
     "execution_count": 50,
     "metadata": {},
     "output_type": "execute_result"
    }
   ],
   "source": [
    "l"
   ]
  },
  {
   "cell_type": "code",
   "execution_count": 54,
   "metadata": {},
   "outputs": [
    {
     "ename": "UnboundLocalError",
     "evalue": "cannot access local variable 'pos' where it is not associated with a value",
     "output_type": "error",
     "traceback": [
      "\u001b[1;31m---------------------------------------------------------------------------\u001b[0m",
      "\u001b[1;31mUnboundLocalError\u001b[0m                         Traceback (most recent call last)",
      "Cell \u001b[1;32mIn[54], line 14\u001b[0m\n\u001b[0;32m     12\u001b[0m         \u001b[38;5;28;01mreturn\u001b[39;00m(pos)\n\u001b[0;32m     13\u001b[0m l \u001b[38;5;241m=\u001b[39m [\u001b[38;5;241m12\u001b[39m,\u001b[38;5;241m23\u001b[39m,\u001b[38;5;241m45\u001b[39m,\u001b[38;5;241m3\u001b[39m,\u001b[38;5;241m6\u001b[39m,\u001b[38;5;241m78\u001b[39m,\u001b[38;5;241m34\u001b[39m]\n\u001b[1;32m---> 14\u001b[0m \u001b[43mfindpos\u001b[49m\u001b[43m(\u001b[49m\u001b[43ml\u001b[49m\u001b[43m,\u001b[49m\u001b[38;5;241;43m34\u001b[39;49m\u001b[43m)\u001b[49m\n",
      "Cell \u001b[1;32mIn[54], line 12\u001b[0m, in \u001b[0;36mfindpos\u001b[1;34m(l, v)\u001b[0m\n\u001b[0;32m      9\u001b[0m     \u001b[38;5;28;01mif\u001b[39;00m \u001b[38;5;129;01mnot\u001b[39;00m found:\n\u001b[0;32m     10\u001b[0m         pos \u001b[38;5;241m=\u001b[39m \u001b[38;5;241m-\u001b[39m\u001b[38;5;241m1\u001b[39m\n\u001b[1;32m---> 12\u001b[0m \u001b[38;5;28;01mreturn\u001b[39;00m(\u001b[43mpos\u001b[49m)\n",
      "\u001b[1;31mUnboundLocalError\u001b[0m: cannot access local variable 'pos' where it is not associated with a value"
     ]
    }
   ],
   "source": [
    "#search for value in a list\n",
    "def findpos(l,v):\n",
    "    # Return first position of v in l\n",
    "    # Return -1 if v not in l\n",
    "    (found,i) = (False,0)\n",
    "    while i < len(l):\n",
    "        if not found and l[i] == v:\n",
    "            (found,pos) = (True,i)\n",
    "            if not found:\n",
    "                pos = -1\n",
    " \n",
    "        return(pos)\n",
    "l = [12,23,45,3,6,78,34]\n",
    "findpos(l,34)"
   ]
  },
  {
   "cell_type": "code",
   "execution_count": 55,
   "metadata": {},
   "outputs": [],
   "source": [
    "#n queen\n",
    "def initialize(n):\n",
    "  for key in ['queen','row','col','nwtose','swtone']:\n",
    "    board[key] = {}\n",
    "  for i in range(n):\n",
    "    board['queen'][i] = -1\n",
    "    board['row'][i] = 0\n",
    "    board['col'][i] = 0\n",
    "  for i in range(-(n-1),n):\n",
    "    board['nwtose'][i] = 0\n",
    "  for i in range(2*n-1):\n",
    "    board['swtone'][i] = 0\n",
    "\n",
    "def printboard():\n",
    "  for row in sorted(board['queen'].keys()):\n",
    "    print((row,board['queen'][row]),end=\" \")\n",
    "  print(\"\")\n",
    "  \n",
    "def free(i,j):\n",
    "  return(board['row'][i] == 0 and board['col'][j] == 0 and\n",
    "          board['nwtose'][j-i] == 0 and board['swtone'][j+i] == 0)\n",
    "\n",
    "def addqueen(i,j):\n",
    "  board['queen'][i] = j\n",
    "  board['row'][i] = 1\n",
    "  board['col'][j] = 1\n",
    "  board['nwtose'][j-i] = 1\n",
    "  board['swtone'][j+i] = 1\n",
    "\n",
    "def undoqueen(i,j):\n",
    "  board['queen'][i] = -1\n",
    "  board['row'][i] = 0\n",
    "  board['col'][j] = 0\n",
    "  board['nwtose'][j-i] = 0\n",
    "  board['swtone'][j+i] = 0\n",
    "\n",
    "def placequeen(i):\n",
    "  n = len(board['queen'].keys())\n",
    "  for j in range(n):\n",
    "    if free(i,j):\n",
    "      addqueen(i,j)\n",
    "      if i == n-1:\n",
    "        printboard()\n",
    "      else:\n",
    "        extendsoln = placequeen(i+1)\n",
    "      undoqueen(i,j)\n",
    "\n",
    "board = {}\n",
    "n = int(input(\"How many queens? \"))\n",
    "initialize(n)\n",
    "if placequeen(0):\n",
    "  printboard()"
   ]
  },
  {
   "cell_type": "code",
   "execution_count": null,
   "metadata": {},
   "outputs": [],
   "source": [
    "#user define list\n",
    "class Node:\n",
    "    def __init__(self, v = None):\n",
    "        self.value = v\n",
    "        self.next = None\n",
    "        return\n",
    "\n",
    "    def isempty(self):\n",
    "        if self.value == None:\n",
    "            return(True)\n",
    "        else:\n",
    "            return(False)\n",
    "\n",
    "    def append(self,v):   # append, recursive\n",
    "        if self.isempty():\n",
    "            self.value = v\n",
    "        elif self.next == None:\n",
    "            newnode = Node(v)\n",
    "            self.next = newnode\n",
    "        else:\n",
    "            self.next.append(v)\n",
    "        return\n",
    "\n",
    "    def insert(self,v):\n",
    "        if self.isempty():\n",
    "            self.value = v\n",
    "            return\n",
    "\n",
    "        newnode = Node(v)\n",
    "\n",
    "        # Evchange values in self and newnode\n",
    "        (self.value, newnode.value) = (newnode.value, self.value)\n",
    "        (self.next, newnode.next) = (newnode, self.next)\n",
    "\n",
    "        return\n",
    "\n",
    "    def delete(self,v):   # delete, recursive\n",
    "        if self.isempty():\n",
    "            return\n",
    "\n",
    "        if self.value == v:\n",
    "            self.value = None\n",
    "            if self.next != None:\n",
    "                self.value = self.next.value\n",
    "                self.next = self.next.next\n",
    "            return\n",
    "        else:\n",
    "            if self.next != None:\n",
    "                self.next.delete(v)\n",
    "                if self.next.value == None:\n",
    "                    self.next = None\n",
    "        return\n",
    "                \n",
    "    def __str__(self):\n",
    "        selflist = []\n",
    "        if self.value == None:\n",
    "            return(str(selflist))\n",
    "\n",
    "        temp = self\n",
    "        selflist.append(temp.value)\n",
    "        \n",
    "        while temp.next != None:\n",
    "            temp = temp.next\n",
    "            selflist.append(temp.value)\n",
    "\n",
    "        return(str(selflist))"
   ]
  },
  {
   "cell_type": "code",
   "execution_count": null,
   "metadata": {},
   "outputs": [],
   "source": [
    "class Tree:\n",
    "\n",
    "    # Empty node has self.value, self.left, self.right = None\n",
    "    # Leaf has self.value != None, and self.left, self.right point to empty node\n",
    "\n",
    "    # Constructor: create an empty node or a leaf node, depending on initval\n",
    "    def __init__(self,initval=None):\n",
    "        self.value = initval\n",
    "        if self.value:\n",
    "            self.left = Tree()\n",
    "            self.right = Tree()\n",
    "        else:\n",
    "            self.left = None\n",
    "            self.right = None\n",
    "        return\n",
    "\n",
    "    # Only empty node has value None\n",
    "    def isempty(self):\n",
    "        return (self.value == None)\n",
    "\n",
    "    # Leaf nodes have both children empty\n",
    "    def isleaf(self):\n",
    "        return (self.left.isempty() and self.right.isempty())\n",
    "\n",
    "    # Convert a leaf node to an empty node\n",
    "    def makeempty(self):\n",
    "        self.value = None\n",
    "        self.left = None\n",
    "        self.right = None\n",
    "        return\n",
    "\n",
    "    # Copy right child values to current node\n",
    "    def copyright(self):\n",
    "        self.value = self.right.value\n",
    "        self.left = self.right.left\n",
    "        self.right = self.right.right\n",
    "        return\n",
    "    \n",
    "    # Check if value v occurs in tree\n",
    "    def find(self,v):\n",
    "        if self.isempty():\n",
    "            return(False)\n",
    "\n",
    "        if self.value == v:\n",
    "            return(True)\n",
    "\n",
    "        if v < self.value:\n",
    "            return(self.left.find(v))\n",
    "\n",
    "        if v > self.value:\n",
    "            return(self.right.find(v))\n",
    "\n",
    "    # Insert value v in tree\n",
    "    def insert(self,v):\n",
    "        if self.isempty():\n",
    "            self.value = v\n",
    "            self.left = Tree()\n",
    "            self.right = Tree()\n",
    "\n",
    "        if self.value == v:\n",
    "            return\n",
    "\n",
    "        if v < self.value:\n",
    "            self.left.insert(v)\n",
    "            return\n",
    "\n",
    "        if v > self.value:\n",
    "            self.right.insert(v)\n",
    "            return\n",
    "\n",
    "    # Find maximum value in a nonempty tree\n",
    "    def maxval(self):\n",
    "        if self.right.isempty():\n",
    "            return(self.value)\n",
    "        else:\n",
    "            return(self.right.maxval())\n",
    "\n",
    "    # Delete value v from tree\n",
    "    def delete(self,v):\n",
    "        if self.isempty():\n",
    "            return\n",
    "\n",
    "        if v < self.value:\n",
    "            self.left.delete(v)\n",
    "            return\n",
    "\n",
    "        if v > self.value:\n",
    "            self.right.delete(v)\n",
    "            return\n",
    "\n",
    "        if v == self.value:\n",
    "            if self.isleaf():\n",
    "                self.makeempty()\n",
    "            elif self.left.isempty():\n",
    "                self.copyright()\n",
    "            else:\n",
    "                self.value = self.left.maxval()\n",
    "                self.left.delete(self.left.maxval())\n",
    "            return\n",
    "\n",
    "    # Inorder traversal\n",
    "    def inorder(self):\n",
    "        if self.isempty():\n",
    "            return([])\n",
    "        else:\n",
    "            return(self.left.inorder()+[self.value]+self.right.inorder())\n",
    "\n",
    "    # Display Tree as a string\n",
    "    def __str__(self):\n",
    "        return(str(self.inorder()))"
   ]
  },
  {
   "cell_type": "code",
   "execution_count": null,
   "metadata": {},
   "outputs": [],
   "source": [
    "def f(m):\n",
    "    if m == 0:\n",
    "        return (0)\n",
    "    else:\n",
    "        return (m + f(m-1))\n",
    "f(5)\n",
    "\n"
   ]
  },
  {
   "cell_type": "code",
   "execution_count": 4,
   "metadata": {},
   "outputs": [
    {
     "data": {
      "text/plain": [
       "87"
      ]
     },
     "execution_count": 4,
     "metadata": {},
     "output_type": "execute_result"
    }
   ],
   "source": [
    "b = [23,44,87,100]\n",
    "a = b[1:]\n",
    "d = b[2:]\n",
    "c = b\n",
    "d[0] = 97\n",
    "c[2] = 77\n",
    "b\n",
    "a[1]"
   ]
  },
  {
   "cell_type": "code",
   "execution_count": 14,
   "metadata": {},
   "outputs": [
    {
     "name": "stdout",
     "output_type": "stream",
     "text": [
      "6\n"
     ]
    },
    {
     "data": {
      "text/plain": [
       "'python'"
      ]
     },
     "execution_count": 14,
     "metadata": {},
     "output_type": "execute_result"
    }
   ],
   "source": [
    "startmsg = \"python\"\n",
    "print(len(startmsg))\n",
    "endmsg = \"\"\n",
    "for i in range (1,1+len(startmsg)):\n",
    "    \n",
    "    endmsg = startmsg[-i] + endmsg \n",
    "\n",
    "endmsg"
   ]
  },
  {
   "cell_type": "code",
   "execution_count": 18,
   "metadata": {},
   "outputs": [
    {
     "name": "stdout",
     "output_type": "stream",
     "text": [
      "ramoT\n"
     ]
    }
   ],
   "source": [
    "startmsg = \"Tomar\"\n",
    "endmsg = \"\"\n",
    "# Loop through each message\n",
    "for i in range(1,1+len(startmsg)):\n",
    "    endmsg = endmsg + startmsg[-i]\n",
    "print(endmsg)\n"
   ]
  },
  {
   "cell_type": "code",
   "execution_count": 25,
   "metadata": {},
   "outputs": [
    {
     "data": {
      "text/plain": [
       "5"
      ]
     },
     "execution_count": 25,
     "metadata": {},
     "output_type": "execute_result"
    }
   ],
   "source": [
    "def q(n):\n",
    "    s = 0\n",
    "    for i in range(2,n):\n",
    "        if n%i ==0 and i%2 ==1:\n",
    "            s = s+1\n",
    "    return s\n",
    "q(90)-q(89)"
   ]
  },
  {
   "cell_type": "code",
   "execution_count": 26,
   "metadata": {},
   "outputs": [
    {
     "data": {
      "text/plain": [
       "10"
      ]
     },
     "execution_count": 26,
     "metadata": {},
     "output_type": "execute_result"
    }
   ],
   "source": [
    "def h(x):\n",
    "    (d,n) = (1,0)\n",
    "    while d<= x:\n",
    "        (d,n) = (d*3,n+1)\n",
    "    return n\n",
    "h(27993)\n"
   ]
  },
  {
   "cell_type": "code",
   "execution_count": 33,
   "metadata": {},
   "outputs": [
    {
     "data": {
      "text/plain": [
       "7"
      ]
     },
     "execution_count": 33,
     "metadata": {},
     "output_type": "execute_result"
    }
   ],
   "source": [
    "def g(x):\n",
    "    (d,n) = (1,0)\n",
    "    while d<=x:\n",
    "      \n",
    "        (d,n) = (d*3,n+1)\n",
    "        \n",
    "    return n\n",
    "g(1521)"
   ]
  },
  {
   "cell_type": "code",
   "execution_count": null,
   "metadata": {},
   "outputs": [],
   "source": []
  }
 ],
 "metadata": {
  "kernelspec": {
   "display_name": "Python 3",
   "language": "python",
   "name": "python3"
  },
  "language_info": {
   "codemirror_mode": {
    "name": "ipython",
    "version": 3
   },
   "file_extension": ".py",
   "mimetype": "text/x-python",
   "name": "python",
   "nbconvert_exporter": "python",
   "pygments_lexer": "ipython3",
   "version": "3.12.3"
  }
 },
 "nbformat": 4,
 "nbformat_minor": 2
}
