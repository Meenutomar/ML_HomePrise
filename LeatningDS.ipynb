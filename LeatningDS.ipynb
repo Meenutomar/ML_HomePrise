{
 "cells": [
  {
   "cell_type": "markdown",
   "metadata": {},
   "source": [
    "# Handling lists"
   ]
  },
  {
   "cell_type": "code",
   "execution_count": 27,
   "metadata": {},
   "outputs": [
    {
     "name": "stdout",
     "output_type": "stream",
     "text": [
      "[23, 5, 67, 12, 45]\n",
      "[78, 33, 56, 30, 9]\n",
      "[56, 1, 5, 9, 19]\n",
      "[23, 5, 67, 12, 45, 56, 1, 5, 9, 19, 12]\n"
     ]
    },
    {
     "data": {
      "text/plain": [
       "[46,\n",
       " 10,\n",
       " 134,\n",
       " 24,\n",
       " 90,\n",
       " 112,\n",
       " 2,\n",
       " 10,\n",
       " 18,\n",
       " 38,\n",
       " 24,\n",
       " [66, 67, 68, 66, 67, 68],\n",
       " 46,\n",
       " 112,\n",
       " 178]"
      ]
     },
     "execution_count": 27,
     "metadata": {},
     "output_type": "execute_result"
    }
   ],
   "source": [
    "l = [23,5,67,12,45,56,1,5,9,19]\n",
    "li = [22,3,5,7,12,78,33,56,30,9]\n",
    "\n",
    "print(l[:5])\n",
    "\n",
    "print(li[5:10])\n",
    "print(l[-5:])\n",
    "l.append(12)\n",
    "print(l)\n",
    "l.append([66,67,68])\n",
    "l.extend([23,56,89])\n",
    "# list comprehension\n",
    "l2 = [(i*2) for i in l]\n",
    "l2\n",
    "    \n",
    "\n",
    "\n"
   ]
  },
  {
   "cell_type": "code",
   "execution_count": 31,
   "metadata": {},
   "outputs": [
    {
     "name": "stdout",
     "output_type": "stream",
     "text": [
      "(23, 5, 67, 12, 45)\n",
      "(78, 33, 56, 30, 9)\n",
      "(56, 1, 5, 9, 19)\n"
     ]
    },
    {
     "data": {
      "text/plain": [
       "[12167, 125, 300763, 1728, 91125, 175616, 1, 125, 729, 6859]"
      ]
     },
     "execution_count": 31,
     "metadata": {},
     "output_type": "execute_result"
    }
   ],
   "source": [
    "t = (23,5,67,12,45,56,1,5,9,19)\n",
    "t1= (22,3,5,7,12,78,33,56,30,9)\n",
    "print(t[:5])\n",
    "print(t1[5:10])\n",
    "print(t[-5:])\n",
    " \n",
    "\n",
    "t2 = [i**3 for i in t]\n",
    "t2"
   ]
  },
  {
   "cell_type": "markdown",
   "metadata": {},
   "source": []
  },
  {
   "cell_type": "code",
   "execution_count": 39,
   "metadata": {},
   "outputs": [
    {
     "data": {
      "text/plain": [
       "({'id': 1, 'name': 'Meenu', 'gender': 'female'},\n",
       " {'id': 2, 'name': 'Seema', 'gender': 'female'})"
      ]
     },
     "execution_count": 39,
     "metadata": {},
     "output_type": "execute_result"
    }
   ],
   "source": [
    "d = {'id':1,'name':'Meenu', 'gender' :'female'},{ 'id':2,'name':'Seema','gender':'female'}\n",
    "d"
   ]
  },
  {
   "cell_type": "code",
   "execution_count": 42,
   "metadata": {},
   "outputs": [
    {
     "data": {
      "text/plain": [
       "'Meenu'"
      ]
     },
     "execution_count": 42,
     "metadata": {},
     "output_type": "execute_result"
    }
   ],
   "source": [
    "d[0][\"name\"]\n"
   ]
  },
  {
   "cell_type": "code",
   "execution_count": 43,
   "metadata": {},
   "outputs": [
    {
     "data": {
      "text/plain": [
       "[{'id': 1, 'name': 'Meenu', 'gender': 'female'},\n",
       " {'id': 2, 'name': 'Seema', 'gender': 'female'}]"
      ]
     },
     "execution_count": 43,
     "metadata": {},
     "output_type": "execute_result"
    }
   ],
   "source": [
    "d = [{'id':1,'name':'Meenu', 'gender' :'female'},{ 'id':2,'name':'Seema','gender':'female'}]\n",
    "d"
   ]
  },
  {
   "cell_type": "code",
   "execution_count": 44,
   "metadata": {},
   "outputs": [
    {
     "data": {
      "text/plain": [
       "'Seema'"
      ]
     },
     "execution_count": 44,
     "metadata": {},
     "output_type": "execute_result"
    }
   ],
   "source": [
    "d[1][\"name\"]"
   ]
  },
  {
   "cell_type": "code",
   "execution_count": 78,
   "metadata": {},
   "outputs": [
    {
     "name": "stdout",
     "output_type": "stream",
     "text": [
      "[9261, 64, 216, 658503, 91125, 9261, 64, 216, 658503, 91125]\n",
      "[21, 4, 6, 87, 45, [2, 6, 8]]\n"
     ]
    }
   ],
   "source": [
    "l4 = [21,4,6,87,45]\n",
    "l3 = [(i**3) for i in l4]\n",
    "\n",
    "l3\n",
    "l4.append([2,6,8])\n",
    "\n",
    "l5 = [(i**3) for i in l4[:5]]\n",
    "\n",
    "l5\n",
    "l6 = [(i**3) for i in l4 and l4[:5]]\n",
    "l6\n",
    "l5\n",
    "l7 = l5 + l6\n",
    "l7\n",
    "l4\n",
    "print(l7)\n",
    "print(l4)"
   ]
  },
  {
   "cell_type": "code",
   "execution_count": 83,
   "metadata": {},
   "outputs": [
    {
     "name": "stdout",
     "output_type": "stream",
     "text": [
      "1518338\n"
     ]
    },
    {
     "data": {
      "text/plain": [
       "1518338"
      ]
     },
     "execution_count": 83,
     "metadata": {},
     "output_type": "execute_result"
    }
   ],
   "source": [
    "n = 0\n",
    "for i in l7:\n",
    "    n = n+i\n",
    "print(n)\n",
    "sum(l7)\n",
    "\n",
    "\n",
    "    \n",
    "\n",
    "\n",
    "  \n"
   ]
  },
  {
   "cell_type": "code",
   "execution_count": 88,
   "metadata": {},
   "outputs": [
    {
     "name": "stdout",
     "output_type": "stream",
     "text": [
      "151833.8\n"
     ]
    }
   ],
   "source": [
    "m = 0\n",
    "a = len(l7)\n",
    "for i in l7:\n",
    "    \n",
    "    m = (m+i)\n",
    "print(m/a)\n"
   ]
  },
  {
   "cell_type": "code",
   "execution_count": 96,
   "metadata": {},
   "outputs": [
    {
     "name": "stdout",
     "output_type": "stream",
     "text": [
      "151833.8\n",
      "10\n",
      "1518338\n"
     ]
    }
   ],
   "source": [
    "m = 0\n",
    "count = 0\n",
    "\n",
    "    \n",
    "for i in l7:\n",
    "    count = count+1\n",
    "    m = (m+i)\n",
    "print(m/count)\n",
    "print(count)\n",
    "print(m)\n"
   ]
  },
  {
   "cell_type": "code",
   "execution_count": 97,
   "metadata": {},
   "outputs": [
    {
     "data": {
      "text/plain": [
       "[9261, 64, 216, 658503, 91125, 9261, 64, 216, 658503, 91125]"
      ]
     },
     "execution_count": 97,
     "metadata": {},
     "output_type": "execute_result"
    }
   ],
   "source": [
    "l7"
   ]
  },
  {
   "cell_type": "code",
   "execution_count": 111,
   "metadata": {},
   "outputs": [
    {
     "name": "stdout",
     "output_type": "stream",
     "text": [
      "64\n"
     ]
    }
   ],
   "source": [
    "max = l7[0]\n",
    "for i in l7[1:]:\n",
    "    if max> i:\n",
    "        max = i\n",
    "print(max)        \n",
    "    \n",
    "\n"
   ]
  },
  {
   "cell_type": "code",
   "execution_count": 110,
   "metadata": {},
   "outputs": [
    {
     "name": "stdout",
     "output_type": "stream",
     "text": [
      "[9261, 64, 216, 658503, 91125, 9261, 64, 216, 658503, 91125]\n",
      "i =: 64\n",
      "max=9261\n",
      "i =: 216\n",
      "max=64\n",
      "i =: 658503\n",
      "max=64\n",
      "i =: 91125\n",
      "max=64\n",
      "i =: 9261\n",
      "max=64\n",
      "i =: 64\n",
      "max=64\n",
      "i =: 216\n",
      "max=64\n",
      "i =: 658503\n",
      "max=64\n",
      "i =: 91125\n",
      "max=64\n",
      "64\n"
     ]
    }
   ],
   "source": [
    "print (l7)\n",
    "max = l7[0]\n",
    "for i in l7[1:]:\n",
    "    print(\"i =: \" +str(i))\n",
    "    print(\"max=\"+str(max))\n",
    "    if max < i:\n",
    "        max = i\n",
    "    \n",
    "print(max)"
   ]
  },
  {
   "cell_type": "code",
   "execution_count": 112,
   "metadata": {},
   "outputs": [
    {
     "data": {
      "text/plain": [
       "[9261, 64, 216, 658503, 91125, 9261, 64, 216, 658503, 91125]"
      ]
     },
     "execution_count": 112,
     "metadata": {},
     "output_type": "execute_result"
    }
   ],
   "source": [
    "#searching\n",
    "l7"
   ]
  },
  {
   "cell_type": "code",
   "execution_count": 121,
   "metadata": {},
   "outputs": [
    {
     "name": "stdout",
     "output_type": "stream",
     "text": [
      "9261\n",
      "1\n",
      "9261\n",
      "6\n"
     ]
    }
   ],
   "source": [
    "number = 9261\n",
    "count = 0\n",
    "for i in l7:\n",
    "    count += 1\n",
    "    #print(\"i \", i)\n",
    "    #print(\"c\", count)\n",
    "    if number == i:\n",
    "        \n",
    "        print(i)\n",
    "        print(count)\n",
    "\n",
    "\n"
   ]
  },
  {
   "cell_type": "code",
   "execution_count": 126,
   "metadata": {},
   "outputs": [
    {
     "name": "stdout",
     "output_type": "stream",
     "text": [
      "9261\n",
      "1\n",
      "9261\n",
      "6\n",
      "[1, 6]\n",
      "{9261: [1, 6]}\n"
     ]
    }
   ],
   "source": [
    "number = 9261\n",
    "count = 0\n",
    "a = []\n",
    "d = {}\n",
    "for i in l7:\n",
    "    count += 1\n",
    "    #print(\"i \", i)\n",
    "    #print(\"c\", count)\n",
    "    if number == i:\n",
    "        a.append(count)\n",
    "        print(i)\n",
    "        print(count)\n",
    "print(a)\n",
    "d = {number:a}\n",
    "print(d)\n",
    "\n",
    "#output{9261:[1,6]}"
   ]
  },
  {
   "cell_type": "code",
   "execution_count": 137,
   "metadata": {},
   "outputs": [
    {
     "name": "stdout",
     "output_type": "stream",
     "text": [
      "{9261: [1, 6], 64: [2, 7], 216: [3, 8], 658503: [4, 9], 91125: [5, 10]}\n"
     ]
    }
   ],
   "source": [
    "#print(l7)\n",
    "d = {}\n",
    "for number in l7:\n",
    "\n",
    "    count = 0\n",
    "    a = []\n",
    "   \n",
    "\n",
    "    for i in l7:\n",
    "\n",
    "        count += 1\n",
    "        \n",
    "        if number == i:\n",
    "            a.append(count)\n",
    "            #print(i)\n",
    "            #print(count)\n",
    "    #print(a)\n",
    "    #d = d.update({number:a})\n",
    "    d[number]= a\n",
    "print(d)\n",
    "\n",
    "#output{9261:[1,6]}"
   ]
  },
  {
   "cell_type": "code",
   "execution_count": 7,
   "metadata": {},
   "outputs": [
    {
     "name": "stdout",
     "output_type": "stream",
     "text": [
      "23\n",
      "Meenu\n"
     ]
    },
    {
     "data": {
      "text/plain": [
       "dict_keys(['id', 'name', 'score'])"
      ]
     },
     "execution_count": 7,
     "metadata": {},
     "output_type": "execute_result"
    }
   ],
   "source": [
    "#Tuples\n",
    "(age,name,prims) = (23,\"Meenu\",[1,23,45])\n",
    "print(age)\n",
    "print(name)\n",
    "#list\n",
    "l = [12,34,6,65,67]\n",
    "\n",
    "l[4]\n",
    "\n",
    "#dictionaries\n",
    "\n",
    "d = {\"id\":1,\"name\":\"meenu\",\"score\":45}\n",
    "d.keys()\n"
   ]
  },
  {
   "cell_type": "code",
   "execution_count": 19,
   "metadata": {},
   "outputs": [
    {
     "data": {
      "text/plain": [
       "dict_values(['a', 'b', 'c', 'd', 'e', 'f', 'g', 'h', 'i'])"
      ]
     },
     "execution_count": 19,
     "metadata": {},
     "output_type": "execute_result"
    }
   ],
   "source": [
    "d = {}\n",
    "for l in \"abcdefghi\":\n",
    "    d[l] = l\n",
    "d.keys()\n",
    "d.values()\n",
    "\n",
    "\n"
   ]
  },
  {
   "cell_type": "code",
   "execution_count": 10,
   "metadata": {},
   "outputs": [
    {
     "name": "stdout",
     "output_type": "stream",
     "text": [
      "a a\n",
      "b b\n",
      "c c\n",
      "d d\n",
      "e e\n",
      "f f\n",
      "g g\n",
      "h h\n",
      "i i\n"
     ]
    }
   ],
   "source": [
    "for k in sorted(d.keys()):\n",
    "    print(k, d[k])"
   ]
  },
  {
   "cell_type": "code",
   "execution_count": 20,
   "metadata": {},
   "outputs": [
    {
     "data": {
      "text/plain": [
       "{0: 7}"
      ]
     },
     "execution_count": 20,
     "metadata": {},
     "output_type": "execute_result"
    }
   ],
   "source": [
    "d = {}\n",
    "d[0] = 7\n",
    "d"
   ]
  },
  {
   "cell_type": "code",
   "execution_count": 27,
   "metadata": {},
   "outputs": [
    {
     "data": {
      "text/plain": [
       "1024"
      ]
     },
     "execution_count": 27,
     "metadata": {},
     "output_type": "execute_result"
    }
   ],
   "source": [
    "#passing value to function\n",
    "def power(x,n):\n",
    "#     return x**n\n",
    "# power(2,3)\n",
    "    ans = 1\n",
    "    for i in range(0,n):\n",
    "        ans = ans * x\n",
    "    return ans\n",
    "#power(x = 4, n = 4)\n",
    "power(4,5)"
   ]
  },
  {
   "cell_type": "code",
   "execution_count": 21,
   "metadata": {},
   "outputs": [
    {
     "name": "stdout",
     "output_type": "stream",
     "text": [
      "False\n"
     ]
    }
   ],
   "source": [
    "# def sroot(n):\n",
    "#     return round(n ** 0.5)\n",
    "\n",
    "# # n = int(input(\"enter the number\"))\n",
    "# # print(sroot(n))\n",
    "# sroot(25)\n",
    "\n",
    "#prime number\n",
    "\n",
    "def is_prime(n):\n",
    "    if n <= 1:\n",
    "        return False\n",
    "    for i in range(2,int(n**.5)+1):\n",
    "        if n % i == 0:\n",
    "            return False\n",
    "        \n",
    "    return True\n",
    "        \n",
    "   \n",
    "    \n",
    "print(is_prime(39))\n",
    "    \n",
    "    "
   ]
  },
  {
   "cell_type": "code",
   "execution_count": 33,
   "metadata": {},
   "outputs": [
    {
     "data": {
      "text/plain": [
       "64"
      ]
     },
     "execution_count": 33,
     "metadata": {},
     "output_type": "execute_result"
    }
   ],
   "source": [
    "def s(x):\n",
    "    return(x*x)\n",
    "def even(x):\n",
    "    return(x%2==0)\n",
    "def odd(x):\n",
    "    return(x%2!=0)\n",
    "def prime(x):\n",
    "    if x<2:\n",
    "        return False\n",
    "    for i in range(2,int(x**0.5)+1):\n",
    "        if x%i==0:\n",
    "            return False\n",
    "    return True\n",
    "    \n",
    "s(8)\n",
    "#even(63)"
   ]
  },
  {
   "cell_type": "code",
   "execution_count": 30,
   "metadata": {},
   "outputs": [
    {
     "data": {
      "text/plain": [
       "[1,\n",
       " 9,\n",
       " 25,\n",
       " 49,\n",
       " 81,\n",
       " 121,\n",
       " 169,\n",
       " 225,\n",
       " 289,\n",
       " 361,\n",
       " 441,\n",
       " 529,\n",
       " 625,\n",
       " 729,\n",
       " 841,\n",
       " 961,\n",
       " 1089,\n",
       " 1225,\n",
       " 1369,\n",
       " 1521,\n",
       " 1681,\n",
       " 1849,\n",
       " 2025,\n",
       " 2209,\n",
       " 2401]"
      ]
     },
     "execution_count": 30,
     "metadata": {},
     "output_type": "execute_result"
    }
   ],
   "source": [
    "[s(x)for x in range(50) if odd(x)]"
   ]
  },
  {
   "cell_type": "code",
   "execution_count": 34,
   "metadata": {},
   "outputs": [
    {
     "data": {
      "text/plain": [
       "[4, 9, 25, 49, 121, 169, 289, 361, 529, 841, 961, 1369, 1681, 1849, 2209]"
      ]
     },
     "execution_count": 34,
     "metadata": {},
     "output_type": "execute_result"
    }
   ],
   "source": [
    "[s(x)for x in range(50)if prime(x)]"
   ]
  },
  {
   "cell_type": "code",
   "execution_count": 37,
   "metadata": {},
   "outputs": [
    {
     "data": {
      "text/plain": [
       "[0, 4, 16, 36, 64, 100, 144, 196, 256, 324]"
      ]
     },
     "execution_count": 37,
     "metadata": {},
     "output_type": "execute_result"
    }
   ],
   "source": [
    "[s(x)for x in range(20)if even(x)]"
   ]
  },
  {
   "cell_type": "code",
   "execution_count": null,
   "metadata": {},
   "outputs": [],
   "source": []
  }
 ],
 "metadata": {
  "kernelspec": {
   "display_name": "Python 3",
   "language": "python",
   "name": "python3"
  },
  "language_info": {
   "codemirror_mode": {
    "name": "ipython",
    "version": 3
   },
   "file_extension": ".py",
   "mimetype": "text/x-python",
   "name": "python",
   "nbconvert_exporter": "python",
   "pygments_lexer": "ipython3",
   "version": "3.12.3"
  }
 },
 "nbformat": 4,
 "nbformat_minor": 2
}
