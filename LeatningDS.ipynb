{
 "cells": [
  {
   "cell_type": "markdown",
   "metadata": {},
   "source": [
    "# Handling lists"
   ]
  },
  {
   "cell_type": "code",
   "execution_count": 27,
   "metadata": {},
   "outputs": [
    {
     "name": "stdout",
     "output_type": "stream",
     "text": [
      "[23, 5, 67, 12, 45]\n",
      "[78, 33, 56, 30, 9]\n",
      "[56, 1, 5, 9, 19]\n",
      "[23, 5, 67, 12, 45, 56, 1, 5, 9, 19, 12]\n"
     ]
    },
    {
     "data": {
      "text/plain": [
       "[46,\n",
       " 10,\n",
       " 134,\n",
       " 24,\n",
       " 90,\n",
       " 112,\n",
       " 2,\n",
       " 10,\n",
       " 18,\n",
       " 38,\n",
       " 24,\n",
       " [66, 67, 68, 66, 67, 68],\n",
       " 46,\n",
       " 112,\n",
       " 178]"
      ]
     },
     "execution_count": 27,
     "metadata": {},
     "output_type": "execute_result"
    }
   ],
   "source": [
    "l = [23,5,67,12,45,56,1,5,9,19]\n",
    "li = [22,3,5,7,12,78,33,56,30,9]\n",
    "\n",
    "print(l[:5])\n",
    "\n",
    "print(li[5:10])\n",
    "print(l[-5:])\n",
    "l.append(12)\n",
    "print(l)\n",
    "l.append([66,67,68])\n",
    "l.extend([23,56,89])\n",
    "# list comprehension\n",
    "l2 = [(i*2) for i in l]\n",
    "l2\n",
    "    \n",
    "\n",
    "\n"
   ]
  },
  {
   "cell_type": "code",
   "execution_count": 31,
   "metadata": {},
   "outputs": [
    {
     "name": "stdout",
     "output_type": "stream",
     "text": [
      "(23, 5, 67, 12, 45)\n",
      "(78, 33, 56, 30, 9)\n",
      "(56, 1, 5, 9, 19)\n"
     ]
    },
    {
     "data": {
      "text/plain": [
       "[12167, 125, 300763, 1728, 91125, 175616, 1, 125, 729, 6859]"
      ]
     },
     "execution_count": 31,
     "metadata": {},
     "output_type": "execute_result"
    }
   ],
   "source": [
    "t = (23,5,67,12,45,56,1,5,9,19)\n",
    "t1= (22,3,5,7,12,78,33,56,30,9)\n",
    "print(t[:5])\n",
    "print(t1[5:10])\n",
    "print(t[-5:])\n",
    " \n",
    "\n",
    "t2 = [i**3 for i in t]\n",
    "t2"
   ]
  },
  {
   "cell_type": "markdown",
   "metadata": {},
   "source": []
  },
  {
   "cell_type": "code",
   "execution_count": 39,
   "metadata": {},
   "outputs": [
    {
     "data": {
      "text/plain": [
       "({'id': 1, 'name': 'Meenu', 'gender': 'female'},\n",
       " {'id': 2, 'name': 'Seema', 'gender': 'female'})"
      ]
     },
     "execution_count": 39,
     "metadata": {},
     "output_type": "execute_result"
    }
   ],
   "source": [
    "d = {'id':1,'name':'Meenu', 'gender' :'female'},{ 'id':2,'name':'Seema','gender':'female'}\n",
    "d"
   ]
  },
  {
   "cell_type": "code",
   "execution_count": 42,
   "metadata": {},
   "outputs": [
    {
     "data": {
      "text/plain": [
       "'Meenu'"
      ]
     },
     "execution_count": 42,
     "metadata": {},
     "output_type": "execute_result"
    }
   ],
   "source": [
    "d[0][\"name\"]\n"
   ]
  },
  {
   "cell_type": "code",
   "execution_count": 43,
   "metadata": {},
   "outputs": [
    {
     "data": {
      "text/plain": [
       "[{'id': 1, 'name': 'Meenu', 'gender': 'female'},\n",
       " {'id': 2, 'name': 'Seema', 'gender': 'female'}]"
      ]
     },
     "execution_count": 43,
     "metadata": {},
     "output_type": "execute_result"
    }
   ],
   "source": [
    "d = [{'id':1,'name':'Meenu', 'gender' :'female'},{ 'id':2,'name':'Seema','gender':'female'}]\n",
    "d"
   ]
  },
  {
   "cell_type": "code",
   "execution_count": 44,
   "metadata": {},
   "outputs": [
    {
     "data": {
      "text/plain": [
       "'Seema'"
      ]
     },
     "execution_count": 44,
     "metadata": {},
     "output_type": "execute_result"
    }
   ],
   "source": [
    "d[1][\"name\"]"
   ]
  },
  {
   "cell_type": "code",
   "execution_count": 78,
   "metadata": {},
   "outputs": [
    {
     "name": "stdout",
     "output_type": "stream",
     "text": [
      "[9261, 64, 216, 658503, 91125, 9261, 64, 216, 658503, 91125]\n",
      "[21, 4, 6, 87, 45, [2, 6, 8]]\n"
     ]
    }
   ],
   "source": [
    "l4 = [21,4,6,87,45]\n",
    "l3 = [(i**3) for i in l4]\n",
    "\n",
    "l3\n",
    "l4.append([2,6,8])\n",
    "\n",
    "l5 = [(i**3) for i in l4[:5]]\n",
    "\n",
    "l5\n",
    "l6 = [(i**3) for i in l4 and l4[:5]]\n",
    "l6\n",
    "l5\n",
    "l7 = l5 + l6\n",
    "l7\n",
    "l4\n",
    "print(l7)\n",
    "print(l4)"
   ]
  },
  {
   "cell_type": "code",
   "execution_count": 83,
   "metadata": {},
   "outputs": [
    {
     "name": "stdout",
     "output_type": "stream",
     "text": [
      "1518338\n"
     ]
    },
    {
     "data": {
      "text/plain": [
       "1518338"
      ]
     },
     "execution_count": 83,
     "metadata": {},
     "output_type": "execute_result"
    }
   ],
   "source": [
    "n = 0\n",
    "for i in l7:\n",
    "    n = n+i\n",
    "print(n)\n",
    "sum(l7)\n",
    "\n",
    "\n",
    "    \n",
    "\n",
    "\n",
    "  \n"
   ]
  },
  {
   "cell_type": "code",
   "execution_count": 88,
   "metadata": {},
   "outputs": [
    {
     "name": "stdout",
     "output_type": "stream",
     "text": [
      "151833.8\n"
     ]
    }
   ],
   "source": [
    "m = 0\n",
    "a = len(l7)\n",
    "for i in l7:\n",
    "    \n",
    "    m = (m+i)\n",
    "print(m/a)\n"
   ]
  },
  {
   "cell_type": "code",
   "execution_count": 96,
   "metadata": {},
   "outputs": [
    {
     "name": "stdout",
     "output_type": "stream",
     "text": [
      "151833.8\n",
      "10\n",
      "1518338\n"
     ]
    }
   ],
   "source": [
    "m = 0\n",
    "count = 0\n",
    "\n",
    "    \n",
    "for i in l7:\n",
    "    count = count+1\n",
    "    m = (m+i)\n",
    "print(m/count)\n",
    "print(count)\n",
    "print(m)\n"
   ]
  },
  {
   "cell_type": "code",
   "execution_count": 97,
   "metadata": {},
   "outputs": [
    {
     "data": {
      "text/plain": [
       "[9261, 64, 216, 658503, 91125, 9261, 64, 216, 658503, 91125]"
      ]
     },
     "execution_count": 97,
     "metadata": {},
     "output_type": "execute_result"
    }
   ],
   "source": [
    "l7"
   ]
  },
  {
   "cell_type": "code",
   "execution_count": 111,
   "metadata": {},
   "outputs": [
    {
     "name": "stdout",
     "output_type": "stream",
     "text": [
      "64\n"
     ]
    }
   ],
   "source": [
    "max = l7[0]\n",
    "for i in l7[1:]:\n",
    "    if max> i:\n",
    "        max = i\n",
    "print(max)        \n",
    "    \n",
    "\n"
   ]
  },
  {
   "cell_type": "code",
   "execution_count": 110,
   "metadata": {},
   "outputs": [
    {
     "name": "stdout",
     "output_type": "stream",
     "text": [
      "[9261, 64, 216, 658503, 91125, 9261, 64, 216, 658503, 91125]\n",
      "i =: 64\n",
      "max=9261\n",
      "i =: 216\n",
      "max=64\n",
      "i =: 658503\n",
      "max=64\n",
      "i =: 91125\n",
      "max=64\n",
      "i =: 9261\n",
      "max=64\n",
      "i =: 64\n",
      "max=64\n",
      "i =: 216\n",
      "max=64\n",
      "i =: 658503\n",
      "max=64\n",
      "i =: 91125\n",
      "max=64\n",
      "64\n"
     ]
    }
   ],
   "source": [
    "print (l7)\n",
    "max = l7[0]\n",
    "for i in l7[1:]:\n",
    "    print(\"i =: \" +str(i))\n",
    "    print(\"max=\"+str(max))\n",
    "    if max < i:\n",
    "        max = i\n",
    "    \n",
    "print(max)"
   ]
  },
  {
   "cell_type": "code",
   "execution_count": 112,
   "metadata": {},
   "outputs": [
    {
     "data": {
      "text/plain": [
       "[9261, 64, 216, 658503, 91125, 9261, 64, 216, 658503, 91125]"
      ]
     },
     "execution_count": 112,
     "metadata": {},
     "output_type": "execute_result"
    }
   ],
   "source": [
    "#searching\n",
    "l7"
   ]
  },
  {
   "cell_type": "code",
   "execution_count": 121,
   "metadata": {},
   "outputs": [
    {
     "name": "stdout",
     "output_type": "stream",
     "text": [
      "9261\n",
      "1\n",
      "9261\n",
      "6\n"
     ]
    }
   ],
   "source": [
    "number = 9261\n",
    "count = 0\n",
    "for i in l7:\n",
    "    count += 1\n",
    "    #print(\"i \", i)\n",
    "    #print(\"c\", count)\n",
    "    if number == i:\n",
    "        \n",
    "        print(i)\n",
    "        print(count)\n",
    "\n",
    "\n"
   ]
  },
  {
   "cell_type": "code",
   "execution_count": 126,
   "metadata": {},
   "outputs": [
    {
     "name": "stdout",
     "output_type": "stream",
     "text": [
      "9261\n",
      "1\n",
      "9261\n",
      "6\n",
      "[1, 6]\n",
      "{9261: [1, 6]}\n"
     ]
    }
   ],
   "source": [
    "number = 9261\n",
    "count = 0\n",
    "a = []\n",
    "d = {}\n",
    "for i in l7:\n",
    "    count += 1\n",
    "    #print(\"i \", i)\n",
    "    #print(\"c\", count)\n",
    "    if number == i:\n",
    "        a.append(count)\n",
    "        print(i)\n",
    "        print(count)\n",
    "print(a)\n",
    "d = {number:a}\n",
    "print(d)\n",
    "\n",
    "#output{9261:[1,6]}"
   ]
  },
  {
   "cell_type": "code",
   "execution_count": 137,
   "metadata": {},
   "outputs": [
    {
     "name": "stdout",
     "output_type": "stream",
     "text": [
      "{9261: [1, 6], 64: [2, 7], 216: [3, 8], 658503: [4, 9], 91125: [5, 10]}\n"
     ]
    }
   ],
   "source": [
    "#print(l7)\n",
    "d = {}\n",
    "for number in l7:\n",
    "\n",
    "    count = 0\n",
    "    a = []\n",
    "   \n",
    "\n",
    "    for i in l7:\n",
    "\n",
    "        count += 1\n",
    "        \n",
    "        if number == i:\n",
    "            a.append(count)\n",
    "            #print(i)\n",
    "            #print(count)\n",
    "    #print(a)\n",
    "    #d = d.update({number:a})\n",
    "    d[number]= a\n",
    "print(d)\n",
    "\n",
    "#output{9261:[1,6]}"
   ]
  },
  {
   "cell_type": "code",
   "execution_count": 7,
   "metadata": {},
   "outputs": [
    {
     "name": "stdout",
     "output_type": "stream",
     "text": [
      "23\n",
      "Meenu\n"
     ]
    },
    {
     "data": {
      "text/plain": [
       "dict_keys(['id', 'name', 'score'])"
      ]
     },
     "execution_count": 7,
     "metadata": {},
     "output_type": "execute_result"
    }
   ],
   "source": [
    "#Tuples\n",
    "(age,name,prims) = (23,\"Meenu\",[1,23,45])\n",
    "print(age)\n",
    "print(name)\n",
    "#list\n",
    "l = [12,34,6,65,67]\n",
    "\n",
    "l[4]\n",
    "\n",
    "#dictionaries\n",
    "\n",
    "d = {\"id\":1,\"name\":\"meenu\",\"score\":45}\n",
    "d.keys()\n"
   ]
  },
  {
   "cell_type": "code",
   "execution_count": 19,
   "metadata": {},
   "outputs": [
    {
     "data": {
      "text/plain": [
       "dict_values(['a', 'b', 'c', 'd', 'e', 'f', 'g', 'h', 'i'])"
      ]
     },
     "execution_count": 19,
     "metadata": {},
     "output_type": "execute_result"
    }
   ],
   "source": [
    "d = {}\n",
    "for l in \"abcdefghi\":\n",
    "    d[l] = l\n",
    "d.keys()\n",
    "d.values()\n",
    "\n",
    "\n"
   ]
  },
  {
   "cell_type": "code",
   "execution_count": 10,
   "metadata": {},
   "outputs": [
    {
     "name": "stdout",
     "output_type": "stream",
     "text": [
      "a a\n",
      "b b\n",
      "c c\n",
      "d d\n",
      "e e\n",
      "f f\n",
      "g g\n",
      "h h\n",
      "i i\n"
     ]
    }
   ],
   "source": [
    "for k in sorted(d.keys()):\n",
    "    print(k, d[k])"
   ]
  },
  {
   "cell_type": "code",
   "execution_count": 20,
   "metadata": {},
   "outputs": [
    {
     "data": {
      "text/plain": [
       "{0: 7}"
      ]
     },
     "execution_count": 20,
     "metadata": {},
     "output_type": "execute_result"
    }
   ],
   "source": [
    "d = {}\n",
    "d[0] = 7\n",
    "d"
   ]
  },
  {
   "cell_type": "code",
   "execution_count": 27,
   "metadata": {},
   "outputs": [
    {
     "data": {
      "text/plain": [
       "1024"
      ]
     },
     "execution_count": 27,
     "metadata": {},
     "output_type": "execute_result"
    }
   ],
   "source": [
    "#passing value to function\n",
    "def power(x,n):\n",
    "#     return x**n\n",
    "# power(2,3)\n",
    "    ans = 1\n",
    "    for i in range(0,n):\n",
    "        ans = ans * x\n",
    "    return ans\n",
    "#power(x = 4, n = 4)\n",
    "power(4,5)"
   ]
  },
  {
   "cell_type": "code",
   "execution_count": 21,
   "metadata": {},
   "outputs": [
    {
     "name": "stdout",
     "output_type": "stream",
     "text": [
      "False\n"
     ]
    }
   ],
   "source": [
    "# def sroot(n):\n",
    "#     return round(n ** 0.5)\n",
    "\n",
    "# # n = int(input(\"enter the number\"))\n",
    "# # print(sroot(n))\n",
    "# sroot(25)\n",
    "\n",
    "#prime number\n",
    "\n",
    "def is_prime(n):\n",
    "    if n <= 1:\n",
    "        return False\n",
    "    for i in range(2,int(n**.5)+1):\n",
    "        if n % i == 0:\n",
    "            return False\n",
    "        \n",
    "    return True\n",
    "        \n",
    "   \n",
    "    \n",
    "print(is_prime(39))\n",
    "    \n",
    "    "
   ]
  },
  {
   "cell_type": "code",
   "execution_count": 33,
   "metadata": {},
   "outputs": [
    {
     "data": {
      "text/plain": [
       "64"
      ]
     },
     "execution_count": 33,
     "metadata": {},
     "output_type": "execute_result"
    }
   ],
   "source": [
    "def s(x):\n",
    "    return(x*x)\n",
    "def even(x):\n",
    "    return(x%2==0)\n",
    "def odd(x):\n",
    "    return(x%2!=0)\n",
    "def prime(x):\n",
    "    if x<2:\n",
    "        return False\n",
    "    for i in range(2,int(x**0.5)+1):\n",
    "        if x%i==0:\n",
    "            return False\n",
    "    return True\n",
    "    \n",
    "s(8)\n",
    "#even(63)"
   ]
  },
  {
   "cell_type": "code",
   "execution_count": 30,
   "metadata": {},
   "outputs": [
    {
     "data": {
      "text/plain": [
       "[1,\n",
       " 9,\n",
       " 25,\n",
       " 49,\n",
       " 81,\n",
       " 121,\n",
       " 169,\n",
       " 225,\n",
       " 289,\n",
       " 361,\n",
       " 441,\n",
       " 529,\n",
       " 625,\n",
       " 729,\n",
       " 841,\n",
       " 961,\n",
       " 1089,\n",
       " 1225,\n",
       " 1369,\n",
       " 1521,\n",
       " 1681,\n",
       " 1849,\n",
       " 2025,\n",
       " 2209,\n",
       " 2401]"
      ]
     },
     "execution_count": 30,
     "metadata": {},
     "output_type": "execute_result"
    }
   ],
   "source": [
    "[s(x)for x in range(50) if odd(x)]"
   ]
  },
  {
   "cell_type": "code",
   "execution_count": 34,
   "metadata": {},
   "outputs": [
    {
     "data": {
      "text/plain": [
       "[4, 9, 25, 49, 121, 169, 289, 361, 529, 841, 961, 1369, 1681, 1849, 2209]"
      ]
     },
     "execution_count": 34,
     "metadata": {},
     "output_type": "execute_result"
    }
   ],
   "source": [
    "[s(x)for x in range(50)if prime(x)]"
   ]
  },
  {
   "cell_type": "code",
   "execution_count": 37,
   "metadata": {},
   "outputs": [
    {
     "data": {
      "text/plain": [
       "[0, 4, 16, 36, 64, 100, 144, 196, 256, 324]"
      ]
     },
     "execution_count": 37,
     "metadata": {},
     "output_type": "execute_result"
    }
   ],
   "source": [
    "[s(x)for x in range(20)if even(x)]"
   ]
  },
  {
   "cell_type": "code",
   "execution_count": 43,
   "metadata": {},
   "outputs": [
    {
     "name": "stdout",
     "output_type": "stream",
     "text": [
      "0\n",
      "1\n",
      "2\n",
      "3\n",
      "4\n",
      "5\n",
      "6\n",
      "7\n",
      "8\n",
      "9\n",
      "10\n",
      "11\n",
      "12\n",
      "13\n",
      "14\n",
      "15\n",
      "16\n",
      "17\n",
      "18\n",
      "19\n"
     ]
    }
   ],
   "source": [
    "def y(m):\n",
    "    for x in range(m):\n",
    "        print(x)\n",
    "y(10)\n"
   ]
  },
  {
   "cell_type": "code",
   "execution_count": 59,
   "metadata": {},
   "outputs": [
    {
     "data": {
      "text/plain": [
       "[(3, 4, 5),\n",
       " (5, 12, 13),\n",
       " (6, 8, 10),\n",
       " (7, 24, 25),\n",
       " (8, 15, 17),\n",
       " (9, 12, 15),\n",
       " (9, 40, 41),\n",
       " (10, 24, 26),\n",
       " (11, 60, 61),\n",
       " (12, 16, 20),\n",
       " (12, 35, 37),\n",
       " (13, 84, 85),\n",
       " (14, 48, 50),\n",
       " (15, 20, 25),\n",
       " (15, 36, 39),\n",
       " (16, 30, 34),\n",
       " (16, 63, 65),\n",
       " (18, 24, 30),\n",
       " (18, 80, 82),\n",
       " (20, 21, 29),\n",
       " (20, 48, 52),\n",
       " (21, 28, 35),\n",
       " (21, 72, 75),\n",
       " (24, 32, 40),\n",
       " (24, 45, 51),\n",
       " (24, 70, 74),\n",
       " (25, 60, 65),\n",
       " (27, 36, 45),\n",
       " (28, 45, 53),\n",
       " (30, 40, 50),\n",
       " (30, 72, 78),\n",
       " (32, 60, 68),\n",
       " (33, 44, 55),\n",
       " (33, 56, 65),\n",
       " (35, 84, 91),\n",
       " (36, 48, 60),\n",
       " (36, 77, 85),\n",
       " (39, 52, 65),\n",
       " (39, 80, 89),\n",
       " (40, 42, 58),\n",
       " (40, 75, 85),\n",
       " (42, 56, 70),\n",
       " (45, 60, 75),\n",
       " (48, 55, 73),\n",
       " (48, 64, 80),\n",
       " (51, 68, 85),\n",
       " (54, 72, 90),\n",
       " (57, 76, 95),\n",
       " (60, 63, 87),\n",
       " (65, 72, 97)]"
      ]
     },
     "execution_count": 59,
     "metadata": {},
     "output_type": "execute_result"
    }
   ],
   "source": [
    "\n",
    "[(x, y, z) for x in range(1,100)\n",
    "               for y in range( x,100)   \n",
    "               for z in range(x,100)   \n",
    "               if x * x + y * y == z * z]\n",
    "\n",
    "\n",
    "\n"
   ]
  },
  {
   "cell_type": "code",
   "execution_count": 60,
   "metadata": {},
   "outputs": [
    {
     "data": {
      "text/plain": [
       "10"
      ]
     },
     "execution_count": 60,
     "metadata": {},
     "output_type": "execute_result"
    }
   ],
   "source": [
    "\n",
    "\n",
    "def h(x):\n",
    "    (d,n) = (1,0)\n",
    "    while d <= x:\n",
    "        (d,n) = (d*3,n+1)\n",
    "    return(n)\n",
    "h(27993)"
   ]
  },
  {
   "cell_type": "code",
   "execution_count": 62,
   "metadata": {},
   "outputs": [
    {
     "data": {
      "text/plain": [
       "2"
      ]
     },
     "execution_count": 62,
     "metadata": {},
     "output_type": "execute_result"
    }
   ],
   "source": [
    "def g(n): \n",
    "    s=0\n",
    "    for i in range(2,n):\n",
    "        if n%i == 0:\n",
    "            s = s+1\n",
    "    return(s)\n",
    "g(60)-g(48)\n"
   ]
  },
  {
   "cell_type": "code",
   "execution_count": 91,
   "metadata": {},
   "outputs": [
    {
     "data": {
      "text/plain": [
       "False"
      ]
     },
     "execution_count": 91,
     "metadata": {},
     "output_type": "execute_result"
    }
   ],
   "source": [
    "def f(n):\n",
    "    g = 0\n",
    "\n",
    "    for i in range(1,n+1):\n",
    "        if n//i==i and n%i==0:\n",
    "            g += 1\n",
    "    return (g%2==1)\n",
    "\n",
    "f(89) \n",
    "\n",
    "\n",
    "\n",
    "\n",
    "\n",
    "  \n"
   ]
  },
  {
   "cell_type": "code",
   "execution_count": 74,
   "metadata": {},
   "outputs": [],
   "source": [
    "def sroot(n):\n",
    "    return round(n ** 0.5)"
   ]
  },
  {
   "cell_type": "code",
   "execution_count": 92,
   "metadata": {},
   "outputs": [
    {
     "data": {
      "text/plain": [
       "7"
      ]
     },
     "execution_count": 92,
     "metadata": {},
     "output_type": "execute_result"
    }
   ],
   "source": [
    "sroot(56)"
   ]
  },
  {
   "cell_type": "code",
   "execution_count": 93,
   "metadata": {},
   "outputs": [
    {
     "data": {
      "text/plain": [
       "120"
      ]
     },
     "execution_count": 93,
     "metadata": {},
     "output_type": "execute_result"
    }
   ],
   "source": [
    "def fact(n):\n",
    "    if n == 0:\n",
    "        return 1\n",
    "    else:\n",
    "        return n * fact(n-1)\n",
    "fact(5)"
   ]
  },
  {
   "cell_type": "code",
   "execution_count": 3,
   "metadata": {},
   "outputs": [
    {
     "data": {
      "text/plain": [
       "5"
      ]
     },
     "execution_count": 3,
     "metadata": {},
     "output_type": "execute_result"
    }
   ],
   "source": [
    "def fib(n):\n",
    "    if n==1 or n==0:\n",
    "        value = n\n",
    "    else:\n",
    "        value= fib(n-1) + fib(n-2)\n",
    "    return(value)\n",
    "    \n",
    "fib(5)"
   ]
  },
  {
   "cell_type": "code",
   "execution_count": null,
   "metadata": {},
   "outputs": [],
   "source": [
    "    10\n",
    "   /  \\\n",
    "  5   20\n",
    " / \\   /\n",
    "3   7 15\n"
   ]
  },
  {
   "cell_type": "markdown",
   "metadata": {},
   "source": [
    "Tree Traversal"
   ]
  },
  {
   "cell_type": "code",
   "execution_count": 5,
   "metadata": {},
   "outputs": [
    {
     "name": "stdout",
     "output_type": "stream",
     "text": [
      "3 5 7 10 15 20 "
     ]
    }
   ],
   "source": [
    "#inorder\n",
    "class Node:\n",
    "    def __init__(self, key):\n",
    "        self.data = key\n",
    "        self.left = None\n",
    "        self.right = None\n",
    "\n",
    "# Function to do inorder traversal\n",
    "def inorder(root):\n",
    "    if root:\n",
    "        # Traverse the left subtree\n",
    "        inorder(root.left)\n",
    "        \n",
    "        # Visit the root (current node)\n",
    "        print(root.data, end=\" \")\n",
    "        \n",
    "        # Traverse the right subtree\n",
    "        inorder(root.right)\n",
    "\n",
    "# Constructing the binary tree\n",
    "root = Node(10)      # Root node\n",
    "root.left = Node(5)  # Left child of root\n",
    "root.right = Node(20)  # Right child of root\n",
    "\n",
    "root.left.left = Node(3)  # Left child of 5\n",
    "root.left.right = Node(7) # Right child of 5\n",
    "root.right.left = Node(15) # Left child of 20\n",
    "\n",
    "# Perform inorder traversal\n",
    "inorder(root)\n",
    "\n"
   ]
  },
  {
   "cell_type": "markdown",
   "metadata": {},
   "source": [
    "Linked List"
   ]
  },
  {
   "cell_type": "code",
   "execution_count": 1,
   "metadata": {},
   "outputs": [
    {
     "name": "stdout",
     "output_type": "stream",
     "text": [
      "Linked list after insertion:\n",
      "10 -> 20 -> 30 -> 40 -> None\n",
      "\n",
      "Linked list after deletion of node with data 20:\n",
      "10 -> 30 -> 40 -> None\n"
     ]
    }
   ],
   "source": [
    "class Node:\n",
    "    def __init__(self, data):\n",
    "        self.data = data  \n",
    "        self.next = None  \n",
    "\n",
    "class LinkedList:\n",
    "    def __init__(self):\n",
    "        self.head = None \n",
    "\n",
    "    # Insert a new node at the end of the linked list\n",
    "    def insert(self, data):\n",
    "        new_node = Node(data)  \n",
    "        if self.head is None:  \n",
    "            self.head = new_node\n",
    "        else:\n",
    "            last_node = self.head\n",
    "            # Traverse to the end of the list\n",
    "            while last_node.next:\n",
    "                last_node = last_node.next\n",
    "            last_node.next = new_node \n",
    "\n",
    "    # Delete a node by its value\n",
    "    def delete(self, key):\n",
    "        temp = self.head\n",
    "\n",
    "        \n",
    "        if temp is not None:\n",
    "            if temp.data == key:\n",
    "                self.head = temp.next\n",
    "                temp = None\n",
    "                return\n",
    "\n",
    "        # Search for the key to be deleted, keep track of the previous node\n",
    "        prev = None\n",
    "        while temp is not None:\n",
    "            if temp.data == key:\n",
    "                break\n",
    "            prev = temp\n",
    "            temp = temp.next\n",
    "\n",
    "        # If the key is not present in the linked list\n",
    "        if temp is None:\n",
    "            print(f\"Node with data {key} not found.\")\n",
    "            return\n",
    "\n",
    "        \n",
    "        prev.next = temp.next\n",
    "        temp = None\n",
    "\n",
    "    \n",
    "    def display(self):\n",
    "        current_node = self.head\n",
    "        while current_node:\n",
    "            print(current_node.data, end=\" -> \")\n",
    "            current_node = current_node.next\n",
    "        print(\"None\")  \n",
    "\n",
    "\n",
    "if __name__ == \"__main__\":\n",
    "    llist = LinkedList()\n",
    "\n",
    "    # Insert elements\n",
    "    llist.insert(10)\n",
    "    llist.insert(20)\n",
    "    llist.insert(30)\n",
    "    llist.insert(40)\n",
    "\n",
    "    # Display the linked list\n",
    "    print(\"Linked list after insertion:\")\n",
    "    llist.display()\n",
    "\n",
    "    # Delete a node\n",
    "    llist.delete(20)\n",
    "    print(\"\\nLinked list after deletion of node with data 20:\")\n",
    "    llist.display()\n"
   ]
  },
  {
   "cell_type": "code",
   "execution_count": null,
   "metadata": {},
   "outputs": [],
   "source": []
  }
 ],
 "metadata": {
  "kernelspec": {
   "display_name": "Python 3",
   "language": "python",
   "name": "python3"
  },
  "language_info": {
   "codemirror_mode": {
    "name": "ipython",
    "version": 3
   },
   "file_extension": ".py",
   "mimetype": "text/x-python",
   "name": "python",
   "nbconvert_exporter": "python",
   "pygments_lexer": "ipython3",
   "version": "3.12.3"
  }
 },
 "nbformat": 4,
 "nbformat_minor": 2
}
